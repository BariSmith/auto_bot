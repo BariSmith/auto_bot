{
 "cells": [
  {
   "cell_type": "code",
   "execution_count": 1,
   "metadata": {},
   "outputs": [
    {
     "name": "stdout",
     "output_type": "stream",
     "text": [
      "Requirement already up-to-date: nltk in c:\\users\\3abdb\\anaconda3\\lib\\site-packages (3.5)\n",
      "Requirement already satisfied, skipping upgrade: click in c:\\users\\3abdb\\anaconda3\\lib\\site-packages (from nltk) (7.1.2)\n",
      "Requirement already satisfied, skipping upgrade: regex in c:\\users\\3abdb\\anaconda3\\lib\\site-packages (from nltk) (2020.10.15)\n",
      "Requirement already satisfied, skipping upgrade: joblib in c:\\users\\3abdb\\anaconda3\\lib\\site-packages (from nltk) (0.17.0)\n",
      "Requirement already satisfied, skipping upgrade: tqdm in c:\\users\\3abdb\\anaconda3\\lib\\site-packages (from nltk) (4.50.2)\n"
     ]
    }
   ],
   "source": [
    "!pip install -U nltk"
   ]
  },
  {
   "cell_type": "code",
   "execution_count": 2,
   "metadata": {},
   "outputs": [],
   "source": [
    "import random\n",
    "import nltk"
   ]
  },
  {
   "cell_type": "code",
   "execution_count": 3,
   "metadata": {},
   "outputs": [],
   "source": [
    "BOT_CONFIG = {\n",
    "    'intents':{\n",
    "        'hello':{\n",
    "            'examples': ['Hello', 'Good day', 'Good morning', 'Good afternoon', 'Good night', 'Hey', 'Wazzap', 'Yo', 'Aloha', 'Hi'],\n",
    "            'responses': ['Hello', \"Welcome\"]\n",
    "        },\n",
    "        'bye':{\n",
    "            'examples': [ 'Bye', 'Have a nice day', 'Good bye'],\n",
    "            'responses': ['If you need me I will be here', 'See you' ]\n",
    "        },\n",
    "        'help_to_choose':{ \n",
    "            'examples': [ 'Can you help me to choose new car with the same specifications?', 'Can you help me with the choose?'],\n",
    "            'response': [ 'Yes. What do you prefer brand of car in electrical segment ?']\n",
    "        },\n",
    "        'select_vehile_brands':{\n",
    "            'examples': [ 'Show me brands', 'Brands'],\n",
    "            'response': ['Nissan', 'Tesla', 'Ford']\n",
    "        },\n",
    "        'select_range1':{\n",
    "            'examples': [ \"What do you have/had volume of your fuel tank on your car?\"]\n",
    "        }\n",
    "        },\n",
    "    \n",
    "    'failure_phrases': [\n",
    "        'Please write another word',\n",
    "        \"Sometinh wrong\",\n",
    "        \"I am limited in answers ask the question correctly\",\n",
    "    ]\n",
    "}"
   ]
  },
  {
   "cell_type": "code",
   "execution_count": null,
   "metadata": {},
   "outputs": [],
   "source": [
    "def filter_text(text):\n",
    "    text = text.lower()\n",
    "    text = [c for c in text if c in 'abcdefghijklmnopqrstuvwxyz-, 1234567890/']\n",
    "    text = ''.join(text)\n",
    "    return text\n",
    "\n",
    "def get_intent(question):\n",
    "    for intent, intent_data in BOT_CONFIG['intents'].items():\n",
    "        for example in intent_data['examples']:\n",
    "            if filter_text(example) == filter_text(question):\n",
    "                return intent"
   ]
  },
  {
   "cell_type": "code",
   "execution_count": 5,
   "metadata": {},
   "outputs": [],
   "source": [
    "def get_answer_by_intent(intent):\n",
    "    if intent in BOT_CONFIG['intents']:\n",
    "        phrases = BOT_CONFIG['intents'][intent]['responses']\n",
    "        return random.choice (phrases)"
   ]
  },
  {
   "cell_type": "code",
   "execution_count": 6,
   "metadata": {},
   "outputs": [],
   "source": [
    "def generate_answer_by_text(question):\n",
    "    return #todo 3th day"
   ]
  },
  {
   "cell_type": "code",
   "execution_count": 7,
   "metadata": {},
   "outputs": [],
   "source": [
    "def get_failure_phrase():\n",
    "    phrases = BOT_CONFIG['failure_phrases']\n",
    "    return random.choice(phrases)"
   ]
  },
  {
   "cell_type": "code",
   "execution_count": 8,
   "metadata": {},
   "outputs": [],
   "source": [
    "def bot(question):\n",
    "    #NLU\n",
    "    intent = get_intent(question)\n",
    "    \n",
    "    #get answer\n",
    "    \n",
    "    #We are seaching ready answer\n",
    "    if intent:\n",
    "        answer = get_answer_by_intent(intent)\n",
    "        if answer:\n",
    "            return answer\n",
    "        \n",
    "    #Generate eligible answer by text\n",
    "    answer = generate_answer_by_text(question)\n",
    "    if answer:\n",
    "        return answer\n",
    "    \n",
    "    #zaglushka\n",
    "    answer = get_failure_phrase()\n",
    "    return answer\n",
    "    "
   ]
  },
  {
   "cell_type": "code",
   "execution_count": null,
   "metadata": {},
   "outputs": [
    {
     "name": "stdout",
     "output_type": "stream",
     "text": [
      "hello\n",
      "Welcome\n",
      "how are you?\n",
      "Sometinh wrong\n"
     ]
    }
   ],
   "source": [
    "question = None\n",
    "\n",
    "while question not in ['exit','gerara here']:\n",
    "    question = input()\n",
    "    answer = bot(question)\n",
    "    print (answer)"
   ]
  },
  {
   "cell_type": "code",
   "execution_count": null,
   "metadata": {},
   "outputs": [],
   "source": []
  },
  {
   "cell_type": "code",
   "execution_count": null,
   "metadata": {},
   "outputs": [],
   "source": []
  },
  {
   "cell_type": "code",
   "execution_count": null,
   "metadata": {},
   "outputs": [],
   "source": []
  }
 ],
 "metadata": {
  "kernelspec": {
   "display_name": "Python 3",
   "language": "python",
   "name": "python3"
  },
  "language_info": {
   "codemirror_mode": {
    "name": "ipython",
    "version": 3
   },
   "file_extension": ".py",
   "mimetype": "text/x-python",
   "name": "python",
   "nbconvert_exporter": "python",
   "pygments_lexer": "ipython3",
   "version": "3.8.5"
  }
 },
 "nbformat": 4,
 "nbformat_minor": 2
}
