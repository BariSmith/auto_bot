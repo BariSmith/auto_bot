{
 "cells": [
  {
   "cell_type": "code",
   "execution_count": null,
   "metadata": {},
   "outputs": [],
   "source": [
    "from bot import final_bot\n",
    "class ScriptBot(final_bot):\n",
    "    def __init__(self, socket, domain, user, password):\n",
    "        super(ScriptBot, self).__init__(socket, domain, user, password, \"SCRIPT NAME\", {\"host\": \"CORE_ADDR\",\n",
    "                                                                                        \"port\": 8181,\n",
    "                                                                                        \"ssl\": False,\n",
    "                                                                                        \"route\": \"/core\"})"
   ]
  }
 ],
 "metadata": {
  "kernelspec": {
   "display_name": "Python 3",
   "language": "python",
   "name": "python3"
  },
  "language_info": {
   "codemirror_mode": {
    "name": "ipython",
    "version": 3
   },
   "file_extension": ".py",
   "mimetype": "text/x-python",
   "name": "python",
   "nbconvert_exporter": "python",
   "pygments_lexer": "ipython3",
   "version": "3.8.5"
  }
 },
 "nbformat": 4,
 "nbformat_minor": 4
}
